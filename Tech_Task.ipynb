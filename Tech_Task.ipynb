{
 "cells": [
  {
   "cell_type": "code",
   "execution_count": 147,
   "id": "e46fa80b",
   "metadata": {},
   "outputs": [],
   "source": [
    "# Solutions"
   ]
  },
  {
   "cell_type": "code",
   "execution_count": 148,
   "id": "97b93f0b",
   "metadata": {},
   "outputs": [],
   "source": [
    "def load_data():\n",
    "    \n",
    "    acceptance = pd.read_csv(\"Acceptance.csv\")\n",
    "    chargeback = pd.read_csv(\"Chargeback.csv\")\n",
    "    data=pd.merge(acceptance,chargeback,how='left',on='external_ref')\n",
    "    \n",
    "    return data"
   ]
  },
  {
   "cell_type": "code",
   "execution_count": 149,
   "id": "b1e90020",
   "metadata": {},
   "outputs": [
    {
     "name": "stdout",
     "output_type": "stream",
     "text": [
      "(3801, 14)\n"
     ]
    }
   ],
   "source": [
    "print(data.shape)"
   ]
  },
  {
   "cell_type": "code",
   "execution_count": 150,
   "id": "1135b558",
   "metadata": {},
   "outputs": [
    {
     "data": {
      "text/html": [
       "<div>\n",
       "<style scoped>\n",
       "    .dataframe tbody tr th:only-of-type {\n",
       "        vertical-align: middle;\n",
       "    }\n",
       "\n",
       "    .dataframe tbody tr th {\n",
       "        vertical-align: top;\n",
       "    }\n",
       "\n",
       "    .dataframe thead th {\n",
       "        text-align: right;\n",
       "    }\n",
       "</style>\n",
       "<table border=\"1\" class=\"dataframe\">\n",
       "  <thead>\n",
       "    <tr style=\"text-align: right;\">\n",
       "      <th></th>\n",
       "      <th>external_ref</th>\n",
       "      <th>status_x</th>\n",
       "      <th>source_x</th>\n",
       "      <th>ref</th>\n",
       "      <th>date_time</th>\n",
       "      <th>state</th>\n",
       "      <th>cvv_provided</th>\n",
       "      <th>amount</th>\n",
       "      <th>country</th>\n",
       "      <th>currency</th>\n",
       "      <th>rates</th>\n",
       "      <th>status_y</th>\n",
       "      <th>source_y</th>\n",
       "      <th>chargeback</th>\n",
       "    </tr>\n",
       "  </thead>\n",
       "  <tbody>\n",
       "    <tr>\n",
       "      <th>763</th>\n",
       "      <td>AjaqMZxRDh_11Meo0HuZh</td>\n",
       "      <td>True</td>\n",
       "      <td>GLOBALPAY</td>\n",
       "      <td>evt_1EMB-CIhbHPnNEAR2fO9X7a</td>\n",
       "      <td>2019-01-26T14:24:00.000Z</td>\n",
       "      <td>ACCEPTED</td>\n",
       "      <td>False</td>\n",
       "      <td>23342.449219</td>\n",
       "      <td>UK</td>\n",
       "      <td>GBP</td>\n",
       "      <td>{\"CAD\":1.3968069551380207,\"EUR\":0.874326364256...</td>\n",
       "      <td>True</td>\n",
       "      <td>GLOBALPAY</td>\n",
       "      <td>False</td>\n",
       "    </tr>\n",
       "    <tr>\n",
       "      <th>116</th>\n",
       "      <td>MfPsikmH0XJj8acNt8pwR</td>\n",
       "      <td>True</td>\n",
       "      <td>GLOBALPAY</td>\n",
       "      <td>evt_1E354iIWRoKUdnl-lTrVzQk</td>\n",
       "      <td>2019-01-04T04:48:00.000Z</td>\n",
       "      <td>ACCEPTED</td>\n",
       "      <td>False</td>\n",
       "      <td>3880.379883</td>\n",
       "      <td>AE</td>\n",
       "      <td>USD</td>\n",
       "      <td>{\"CAD\":1.4056708158890983,\"EUR\":0.907337694828...</td>\n",
       "      <td>True</td>\n",
       "      <td>GLOBALPAY</td>\n",
       "      <td>True</td>\n",
       "    </tr>\n",
       "    <tr>\n",
       "      <th>3434</th>\n",
       "      <td>DZT59ekxOn1vrqqYY14mV</td>\n",
       "      <td>True</td>\n",
       "      <td>GLOBALPAY</td>\n",
       "      <td>evt_1E0lbKSxvw-ewazgr3x_xHY</td>\n",
       "      <td>2019-04-25T19:12:00.000Z</td>\n",
       "      <td>ACCEPTED</td>\n",
       "      <td>False</td>\n",
       "      <td>101230.101562</td>\n",
       "      <td>UK</td>\n",
       "      <td>GBP</td>\n",
       "      <td>{\"CAD\":1.3788743953041551,\"EUR\":0.774079084405...</td>\n",
       "      <td>True</td>\n",
       "      <td>GLOBALPAY</td>\n",
       "      <td>False</td>\n",
       "    </tr>\n",
       "    <tr>\n",
       "      <th>1731</th>\n",
       "      <td>oB6IT5vZY3M1r13lNSz6y</td>\n",
       "      <td>True</td>\n",
       "      <td>GLOBALPAY</td>\n",
       "      <td>evt_1EezN6HdSzqSY3tn0h8VFg1</td>\n",
       "      <td>2019-02-27T04:48:00.000Z</td>\n",
       "      <td>ACCEPTED</td>\n",
       "      <td>False</td>\n",
       "      <td>50536.281250</td>\n",
       "      <td>CA</td>\n",
       "      <td>CAD</td>\n",
       "      <td>{\"CAD\":1.4083546539083278,\"EUR\":0.862347672547...</td>\n",
       "      <td>True</td>\n",
       "      <td>GLOBALPAY</td>\n",
       "      <td>False</td>\n",
       "    </tr>\n",
       "    <tr>\n",
       "      <th>5138</th>\n",
       "      <td>gEwNL3WLVOVnbMurSbHOe</td>\n",
       "      <td>True</td>\n",
       "      <td>GLOBALPAY</td>\n",
       "      <td>evt_1EowXV1R_mSZWb_dapwcp4G</td>\n",
       "      <td>2019-06-21T14:24:00.000Z</td>\n",
       "      <td>ACCEPTED</td>\n",
       "      <td>False</td>\n",
       "      <td>155511.078125</td>\n",
       "      <td>MX</td>\n",
       "      <td>MXN</td>\n",
       "      <td>{\"CAD\":1.3648004090302197,\"EUR\":0.671634228876...</td>\n",
       "      <td>True</td>\n",
       "      <td>GLOBALPAY</td>\n",
       "      <td>False</td>\n",
       "    </tr>\n",
       "  </tbody>\n",
       "</table>\n",
       "</div>"
      ],
      "text/plain": [
       "               external_ref  status_x   source_x                          ref  \\\n",
       "763   AjaqMZxRDh_11Meo0HuZh      True  GLOBALPAY  evt_1EMB-CIhbHPnNEAR2fO9X7a   \n",
       "116   MfPsikmH0XJj8acNt8pwR      True  GLOBALPAY  evt_1E354iIWRoKUdnl-lTrVzQk   \n",
       "3434  DZT59ekxOn1vrqqYY14mV      True  GLOBALPAY  evt_1E0lbKSxvw-ewazgr3x_xHY   \n",
       "1731  oB6IT5vZY3M1r13lNSz6y      True  GLOBALPAY  evt_1EezN6HdSzqSY3tn0h8VFg1   \n",
       "5138  gEwNL3WLVOVnbMurSbHOe      True  GLOBALPAY  evt_1EowXV1R_mSZWb_dapwcp4G   \n",
       "\n",
       "                     date_time     state  cvv_provided         amount country  \\\n",
       "763   2019-01-26T14:24:00.000Z  ACCEPTED         False   23342.449219      UK   \n",
       "116   2019-01-04T04:48:00.000Z  ACCEPTED         False    3880.379883      AE   \n",
       "3434  2019-04-25T19:12:00.000Z  ACCEPTED         False  101230.101562      UK   \n",
       "1731  2019-02-27T04:48:00.000Z  ACCEPTED         False   50536.281250      CA   \n",
       "5138  2019-06-21T14:24:00.000Z  ACCEPTED         False  155511.078125      MX   \n",
       "\n",
       "     currency                                              rates  status_y  \\\n",
       "763       GBP  {\"CAD\":1.3968069551380207,\"EUR\":0.874326364256...      True   \n",
       "116       USD  {\"CAD\":1.4056708158890983,\"EUR\":0.907337694828...      True   \n",
       "3434      GBP  {\"CAD\":1.3788743953041551,\"EUR\":0.774079084405...      True   \n",
       "1731      CAD  {\"CAD\":1.4083546539083278,\"EUR\":0.862347672547...      True   \n",
       "5138      MXN  {\"CAD\":1.3648004090302197,\"EUR\":0.671634228876...      True   \n",
       "\n",
       "       source_y  chargeback  \n",
       "763   GLOBALPAY       False  \n",
       "116   GLOBALPAY        True  \n",
       "3434  GLOBALPAY       False  \n",
       "1731  GLOBALPAY       False  \n",
       "5138  GLOBALPAY       False  "
      ]
     },
     "execution_count": 150,
     "metadata": {},
     "output_type": "execute_result"
    }
   ],
   "source": [
    "data.head()"
   ]
  },
  {
   "cell_type": "code",
   "execution_count": 151,
   "id": "2be637b3",
   "metadata": {},
   "outputs": [
    {
     "name": "stdout",
     "output_type": "stream",
     "text": [
      "ACCEPTED : 70.11312812417785 %\n",
      "DECLINED : 29.886871875822152 %\n"
     ]
    }
   ],
   "source": [
    "All = data.shape[0]\n",
    "accepted = data[data['state'] == 'ACCEPTED']\n",
    "declined = data[data['state'] == 'DECLINED']\n",
    "\n",
    "x = len(accepted)/All\n",
    "y = len(declined)/All\n",
    "\n",
    "print('ACCEPTED :',x*100,'%')\n",
    "print('DECLINED :',y*100,'%')"
   ]
  },
  {
   "cell_type": "code",
   "execution_count": 152,
   "id": "e9a453cd",
   "metadata": {},
   "outputs": [
    {
     "data": {
      "text/plain": [
       "Text(0, 0.5, 'Frequency')"
      ]
     },
     "execution_count": 152,
     "metadata": {},
     "output_type": "execute_result"
    },
    {
     "data": {
      "image/png": "[encoded data removed]",
      "text/plain": [
       "<Figure size 432x288 with 1 Axes>"
      ]
     },
     "metadata": {},
     "output_type": "display_data"
    }
   ],
   "source": [
    "from matplotlib import pyplot as plt\n",
    "plt.style.use('ggplot')\n",
    "\n",
    "# Transaction class against the Frequency\n",
    "labels = ['accepted','declined']\n",
    "classes = pd.value_counts(data['state'], sort = True)\n",
    "classes.plot(kind = 'bar', rot=0)\n",
    "plt.title(\"Transaction Distribution\")\n",
    "plt.xticks(range(2), labels)\n",
    "plt.xlabel(\"State\")\n",
    "plt.ylabel(\"Frequency\")"
   ]
  },
  {
   "cell_type": "code",
   "execution_count": 153,
   "id": "32310200",
   "metadata": {},
   "outputs": [
    {
     "data": {
      "text/plain": [
       "35229690.0"
      ]
     },
     "execution_count": 153,
     "metadata": {},
     "output_type": "execute_result"
    }
   ],
   "source": [
    "dec = declined.loc[declined ['currency'] == 'USD', 'amount']  #35.229.690\n",
    "dec.sum()"
   ]
  },
  {
   "cell_type": "code",
   "execution_count": 154,
   "id": "a2e3eece",
   "metadata": {},
   "outputs": [
    {
     "data": {
      "text/plain": [
       "76251710.0"
      ]
     },
     "execution_count": 154,
     "metadata": {},
     "output_type": "execute_result"
    }
   ],
   "source": [
    "dec = accepted.loc[accepted ['currency'] == 'USD', 'amount']  #76.251.710\n",
    "dec.sum()"
   ]
  },
  {
   "cell_type": "code",
   "execution_count": 155,
   "id": "8327a936",
   "metadata": {},
   "outputs": [
    {
     "data": {
      "text/plain": [
       "0"
      ]
     },
     "execution_count": 155,
     "metadata": {},
     "output_type": "execute_result"
    }
   ],
   "source": [
    "data['chargeback'].isnull().sum()"
   ]
  },
  {
   "cell_type": "code",
   "execution_count": 156,
   "id": "ab1e43a6",
   "metadata": {},
   "outputs": [
    {
     "data": {
      "text/plain": [
       "False"
      ]
     },
     "execution_count": 156,
     "metadata": {},
     "output_type": "execute_result"
    }
   ],
   "source": [
    "data['chargeback'].isnull().any()"
   ]
  },
  {
   "cell_type": "code",
   "execution_count": 157,
   "id": "a111efd8",
   "metadata": {},
   "outputs": [
    {
     "name": "stdout",
     "output_type": "stream",
     "text": [
      "['UK' 'AE' 'CA' 'MX' 'US' 'FR']\n"
     ]
    }
   ],
   "source": [
    "print(data['country'].unique())"
   ]
  },
  {
   "cell_type": "code",
   "execution_count": 158,
   "id": "797121dd",
   "metadata": {},
   "outputs": [
    {
     "data": {
      "text/plain": [
       "13833425.0"
      ]
     },
     "execution_count": 158,
     "metadata": {},
     "output_type": "execute_result"
    }
   ],
   "source": [
    "dec_UK = declined.loc[declined ['country'] == 'UK', 'amount']  #13.833.425\n",
    "dec_UK.sum()"
   ]
  },
  {
   "cell_type": "code",
   "execution_count": 159,
   "id": "4c7f415a",
   "metadata": {},
   "outputs": [
    {
     "data": {
      "text/plain": [
       "17796960.0"
      ]
     },
     "execution_count": 159,
     "metadata": {},
     "output_type": "execute_result"
    }
   ],
   "source": [
    "dec_AE = declined.loc[declined ['country'] == 'AE', 'amount']  #17.796.960\n",
    "dec_AE.sum()"
   ]
  },
  {
   "cell_type": "code",
   "execution_count": 160,
   "id": "bba3df8c",
   "metadata": {},
   "outputs": [
    {
     "data": {
      "text/plain": [
       "17106668.0"
      ]
     },
     "execution_count": 160,
     "metadata": {},
     "output_type": "execute_result"
    }
   ],
   "source": [
    "dec_CA = declined.loc[declined ['country'] == 'CA', 'amount']  #17.106.668\n",
    "dec_CA.sum()"
   ]
  },
  {
   "cell_type": "code",
   "execution_count": 161,
   "id": "531003cc",
   "metadata": {},
   "outputs": [
    {
     "data": {
      "text/plain": [
       "15788996.0"
      ]
     },
     "execution_count": 161,
     "metadata": {},
     "output_type": "execute_result"
    }
   ],
   "source": [
    "dec_MX = declined.loc[declined ['country'] == 'MX', 'amount']  #15.788.996\n",
    "dec_MX.sum()"
   ]
  },
  {
   "cell_type": "code",
   "execution_count": 162,
   "id": "a51d40d3",
   "metadata": {},
   "outputs": [
    {
     "data": {
      "text/plain": [
       "17432724.0"
      ]
     },
     "execution_count": 162,
     "metadata": {},
     "output_type": "execute_result"
    }
   ],
   "source": [
    "dec_US = declined.loc[declined ['country'] == 'US', 'amount'] #17.432.724\n",
    "dec_US.sum()"
   ]
  },
  {
   "cell_type": "code",
   "execution_count": 163,
   "id": "82dac617",
   "metadata": {},
   "outputs": [
    {
     "data": {
      "text/plain": [
       "16753356.0"
      ]
     },
     "execution_count": 163,
     "metadata": {},
     "output_type": "execute_result"
    }
   ],
   "source": [
    "dec_FR = declined.loc[declined ['country'] == 'FR', 'amount']  #16.753.356\n",
    "dec_FR.sum()"
   ]
  },
  {
   "cell_type": "code",
   "execution_count": 164,
   "id": "be474355",
   "metadata": {},
   "outputs": [],
   "source": [
    "#There is no country where the amount of declined transactions went over $25M"
   ]
  },
  {
   "cell_type": "code",
   "execution_count": null,
   "id": "271060fa",
   "metadata": {},
   "outputs": [],
   "source": []
  }
 ],
 "metadata": {
  "kernelspec": {
   "display_name": "Python 3 (ipykernel)",
   "language": "python",
   "name": "python3"
  },
  "language_info": {
   "codemirror_mode": {
    "name": "ipython",
    "version": 3
   },
   "file_extension": ".py",
   "mimetype": "text/x-python",
   "name": "python",
   "nbconvert_exporter": "python",
   "pygments_lexer": "ipython3",
   "version": "3.9.12"
  }
 },
 "nbformat": 4,
 "nbformat_minor": 5
}
